{
 "cells": [
  {
   "cell_type": "code",
   "execution_count": 4,
   "id": "36eae1db",
   "metadata": {},
   "outputs": [],
   "source": [
    "import numpy as np\n",
    "import statistics as st"
   ]
  },
  {
   "cell_type": "code",
   "execution_count": 5,
   "id": "8f3c09f2",
   "metadata": {},
   "outputs": [
    {
     "name": "stdout",
     "output_type": "stream",
     "text": [
      "the original data is---> [4, 5, 8, 9, 10]\n",
      "sd---> 2.3151673805580453\n"
     ]
    }
   ],
   "source": [
    "#without pstdev\n",
    "test=[4,5,8,9,10]\n",
    "print('the original data is--->',test)\n",
    "mean=sum(test)/len(test)\n",
    "var=sum([((x-mean)**2) for x in test])/len(test)\n",
    "std=np.sqrt(var)\n",
    "print('sd--->',std)"
   ]
  },
  {
   "cell_type": "code",
   "execution_count": 6,
   "id": "60a3072e",
   "metadata": {},
   "outputs": [
    {
     "name": "stdout",
     "output_type": "stream",
     "text": [
      "sd---> 2.3151673805580453\n"
     ]
    }
   ],
   "source": [
    "#with pstdev\n",
    "print('sd--->',st.pstdev(test))"
   ]
  },
  {
   "cell_type": "code",
   "execution_count": null,
   "id": "449f03c4",
   "metadata": {},
   "outputs": [],
   "source": []
  }
 ],
 "metadata": {
  "kernelspec": {
   "display_name": "Python 3 (ipykernel)",
   "language": "python",
   "name": "python3"
  },
  "language_info": {
   "codemirror_mode": {
    "name": "ipython",
    "version": 3
   },
   "file_extension": ".py",
   "mimetype": "text/x-python",
   "name": "python",
   "nbconvert_exporter": "python",
   "pygments_lexer": "ipython3",
   "version": "3.9.12"
  }
 },
 "nbformat": 4,
 "nbformat_minor": 5
}
