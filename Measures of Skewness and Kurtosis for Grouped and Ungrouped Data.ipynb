{
 "cells": [
  {
   "cell_type": "markdown",
   "id": "35104b13",
   "metadata": {},
   "source": [
    "# GROUPED DATA"
   ]
  },
  {
   "cell_type": "code",
   "execution_count": 8,
   "id": "ad79a7d3",
   "metadata": {},
   "outputs": [],
   "source": [
    "import numpy as np\n",
    "import pandas as pd\n",
    "import math"
   ]
  },
  {
   "cell_type": "code",
   "execution_count": 2,
   "id": "e801e518",
   "metadata": {},
   "outputs": [],
   "source": [
    "xraw=[22.5,27.5,32.5,37.5,42.5,47.5,52.5,57.5,62.5]\n",
    "yraw=[6,8,11,14,21,15,11,9,5]\n",
    "d=[0,0,0,0,0,0,0,0,0]\n",
    "fd=[0,0,0,0,0,0,0,0,0]\n",
    "fd2=[0,0,0,0,0,0,0,0,0]\n",
    "fd3=[0,0,0,0,0,0,0,0,0]\n",
    "fd4=[0,0,0,0,0,0,0,0,0]\n",
    "ysum,fdsum,fd2sum,fd3sum,fd4sum=0,0,0,0,0\n",
    "mu1dash,mu2dash,mu3dash,mu4dash=0,0,0,0\n",
    "mu1,mu2,mu3,mu4=0,0,0,0"
   ]
  },
  {
   "cell_type": "code",
   "execution_count": 4,
   "id": "208d22b3",
   "metadata": {},
   "outputs": [],
   "source": [
    "class_width=xraw[2]-xraw[1]\n",
    "floorraw=len(xraw)/2\n",
    "floorround=math.floor(floorraw)\n",
    "xmid=xraw[floorround]\n",
    "for i in range(0,len(xraw)):\n",
    "    d[i]=(xraw[i]-xmid)/class_width\n",
    "for i in range(0,len(xraw)):\n",
    "    fd[i]=yraw[i]*d[i]\n",
    "    fd2[i]=yraw[i]*(d[i]**2)\n",
    "    fd3[i]=yraw[i]*(d[i]**3)\n",
    "    fd4[i]=yraw[i]*(d[i]**4)\n",
    "for i in range(0,len(xraw)):\n",
    "    ysum+=yraw[i]\n",
    "    fdsum+=fd[i]\n",
    "    fd2sum+=fd2[i]\n",
    "    fd3sum+=fd3[i]\n",
    "    fd4sum+=fd4[i]\n",
    "    \n",
    "mu1dash=fdsum/ysum*class_width\n",
    "mu2dash=fd2sum/ysum*class_width**2\n",
    "mu3dash=fd3sum/ysum*class_width**3\n",
    "mu4dash=fd4sum/ysum*class_width**4\n",
    "\n",
    "mu1=0\n",
    "mu2=(mu2dash)-mu1dash**2\n",
    "mu3=(mu3dash)-(3*mu2dash*mu1dash)+2*(mu1dash**3)\n",
    "mu4=mu4dash-4*mu3dash*mu1dash+6*mu2dash*(mu1dash)**2 -3*mu1dash**4"
   ]
  },
  {
   "cell_type": "code",
   "execution_count": 6,
   "id": "1b53728e",
   "metadata": {},
   "outputs": [
    {
     "name": "stdout",
     "output_type": "stream",
     "text": [
      "measured skewness---> 0.001460832510412715\n"
     ]
    }
   ],
   "source": [
    "measured_skewness=(mu3dash**2)/(mu2dash**3)\n",
    "print('measured skewness--->',measured_skewness)"
   ]
  },
  {
   "cell_type": "code",
   "execution_count": 7,
   "id": "42e7576b",
   "metadata": {},
   "outputs": [
    {
     "name": "stdout",
     "output_type": "stream",
     "text": [
      "measured kurtosis---> 2.2994630899475155\n"
     ]
    }
   ],
   "source": [
    "measured_kurtosis=(mu4)/mu2**2\n",
    "print('measured kurtosis--->',measured_kurtosis)"
   ]
  },
  {
   "cell_type": "markdown",
   "id": "ae08c522",
   "metadata": {},
   "source": [
    "# UNGROUPED DATA"
   ]
  },
  {
   "cell_type": "code",
   "execution_count": 17,
   "id": "e53397ac",
   "metadata": {},
   "outputs": [],
   "source": [
    "from scipy.stats import skew,kurtosis\n",
    "import pylab as p"
   ]
  },
  {
   "cell_type": "code",
   "execution_count": 18,
   "id": "3c76389e",
   "metadata": {},
   "outputs": [
    {
     "name": "stdout",
     "output_type": "stream",
     "text": [
      "skewness value---> 4.189670632557206\n"
     ]
    },
    {
     "data": {
      "image/png": "[encoded data removed]",
      "text/plain": [
       "<Figure size 432x288 with 1 Axes>"
      ]
     },
     "metadata": {
      "needs_background": "light"
     },
     "output_type": "display_data"
    }
   ],
   "source": [
    "x1=np.linspace(-5,12,100)\n",
    "y1=1/(np.sqrt(2*np.pi))*np.exp(-5*(x1)**2)\n",
    "p.plot(x1,y1)\n",
    "print('skewness value--->',skew(y1))"
   ]
  },
  {
   "cell_type": "code",
   "execution_count": 19,
   "id": "ea54a1e4",
   "metadata": {},
   "outputs": [
    {
     "name": "stdout",
     "output_type": "stream",
     "text": [
      "kurtosis value---> 16.942080782989237\n"
     ]
    }
   ],
   "source": [
    "x1=np.linspace(-5,12,100)\n",
    "y1=1/(np.sqrt(2*np.pi))*(np.exp(-5*(x1)**2))\n",
    "print('kurtosis value--->',kurtosis(y1))"
   ]
  },
  {
   "cell_type": "code",
   "execution_count": null,
   "id": "955bf456",
   "metadata": {},
   "outputs": [],
   "source": []
  },
  {
   "cell_type": "code",
   "execution_count": null,
   "id": "6be88e7f",
   "metadata": {},
   "outputs": [],
   "source": []
  }
 ],
 "metadata": {
  "kernelspec": {
   "display_name": "Python 3 (ipykernel)",
   "language": "python",
   "name": "python3"
  },
  "language_info": {
   "codemirror_mode": {
    "name": "ipython",
    "version": 3
   },
   "file_extension": ".py",
   "mimetype": "text/x-python",
   "name": "python",
   "nbconvert_exporter": "python",
   "pygments_lexer": "ipython3",
   "version": "3.9.12"
  }
 },
 "nbformat": 4,
 "nbformat_minor": 5
}
