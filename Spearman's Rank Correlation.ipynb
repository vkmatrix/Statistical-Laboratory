{
 "cells": [
  {
   "cell_type": "code",
   "execution_count": 1,
   "id": "417692e4",
   "metadata": {},
   "outputs": [],
   "source": [
    "import numpy as np\n",
    "import pandas as pd\n",
    "import scipy.stats as st"
   ]
  },
  {
   "cell_type": "code",
   "execution_count": 3,
   "id": "c1613f4a",
   "metadata": {},
   "outputs": [
    {
     "name": "stdout",
     "output_type": "stream",
     "text": [
      "Ranks of x:\n",
      "0    1.5\n",
      "1    3.0\n",
      "2    4.5\n",
      "3    1.5\n",
      "4    4.5\n",
      "dtype: float64\n",
      "Ranks of y:\n",
      "0    1.5\n",
      "1    1.5\n",
      "2    4.0\n",
      "3    4.0\n",
      "4    4.0\n",
      "dtype: float64\n",
      "SPEARMAN'S RANK CORRELATION----> 0.4564354645876384\n"
     ]
    }
   ],
   "source": [
    "x = [15,18,21, 15, 21]\n",
    "y = [25,25,27,27,27]\n",
    "def spearmans(x,y):\n",
    "    xranks=pd.Series(x).rank()\n",
    "    print('Ranks of x:')\n",
    "    print(xranks)\n",
    "    yranks=pd.Series(y).rank()\n",
    "    print('Ranks of y:')\n",
    "    print(yranks)\n",
    "    print(\"SPEARMAN'S RANK CORRELATION---->\",st.pearsonr(xranks,yranks)[0])\n",
    "\n",
    "    \n",
    "spearmans(x,y)"
   ]
  },
  {
   "cell_type": "code",
   "execution_count": null,
   "id": "ddf61957",
   "metadata": {},
   "outputs": [],
   "source": []
  }
 ],
 "metadata": {
  "kernelspec": {
   "display_name": "Python 3 (ipykernel)",
   "language": "python",
   "name": "python3"
  },
  "language_info": {
   "codemirror_mode": {
    "name": "ipython",
    "version": 3
   },
   "file_extension": ".py",
   "mimetype": "text/x-python",
   "name": "python",
   "nbconvert_exporter": "python",
   "pygments_lexer": "ipython3",
   "version": "3.9.12"
  }
 },
 "nbformat": 4,
 "nbformat_minor": 5
}
