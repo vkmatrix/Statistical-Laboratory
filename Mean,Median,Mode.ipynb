{
 "cells": [
  {
   "cell_type": "code",
   "execution_count": 24,
   "id": "a4d0d039",
   "metadata": {},
   "outputs": [],
   "source": [
    "import numpy as np\n",
    "import pandas as pd"
   ]
  },
  {
   "cell_type": "code",
   "execution_count": 25,
   "id": "d47adfdc",
   "metadata": {},
   "outputs": [
    {
     "name": "stdout",
     "output_type": "stream",
     "text": [
      "enter the observations:\n",
      "5,3,1,2,2,8,1\n"
     ]
    }
   ],
   "source": [
    "n=list(map(int,input(\"enter the observations:\\n\").split(',')))\n"
   ]
  },
  {
   "cell_type": "code",
   "execution_count": 26,
   "id": "e9614486",
   "metadata": {},
   "outputs": [
    {
     "name": "stdout",
     "output_type": "stream",
     "text": [
      "mean---> 3.142857142857143\n"
     ]
    }
   ],
   "source": [
    "print('mean--->',sum(n)/len(n))"
   ]
  },
  {
   "cell_type": "code",
   "execution_count": 27,
   "id": "0250b54c",
   "metadata": {},
   "outputs": [
    {
     "name": "stdout",
     "output_type": "stream",
     "text": [
      "median---> 2\n"
     ]
    }
   ],
   "source": [
    "n.sort()\n",
    "mid=int(len(n)/2)\n",
    "if len(n)%2==0:\n",
    "    n1=n[mid]\n",
    "    n2=n[mid+1]\n",
    "    print('median--->',(n1+n2)/2)\n",
    "    \n",
    "else:\n",
    "    print('median--->',(n[mid]))"
   ]
  },
  {
   "cell_type": "code",
   "execution_count": 36,
   "id": "e1f490f6",
   "metadata": {},
   "outputs": [
    {
     "name": "stdout",
     "output_type": "stream",
     "text": [
      "mode---> none\n"
     ]
    }
   ],
   "source": [
    "#mode\n",
    "l=n\n",
    "c=set(l)\n",
    "d=dict()    \n",
    "for i in c:\n",
    "    d[i]=l.count(i)\n",
    "vl=list(d.values())\n",
    "vc=set(vl)\n",
    "for i in d:\n",
    "    if len(vl)!=len(vc):\n",
    "        print('mode--->','none')\n",
    "        break\n",
    "    elif i==max(d.values()):\n",
    "        x=d.get(i)\n",
    "        print('mode---->',x)"
   ]
  },
  {
   "cell_type": "code",
   "execution_count": null,
   "id": "484d9115",
   "metadata": {},
   "outputs": [],
   "source": []
  },
  {
   "cell_type": "code",
   "execution_count": null,
   "id": "b7c7c92f",
   "metadata": {},
   "outputs": [],
   "source": []
  },
  {
   "cell_type": "code",
   "execution_count": null,
   "id": "e75655c2",
   "metadata": {},
   "outputs": [],
   "source": []
  }
 ],
 "metadata": {
  "kernelspec": {
   "display_name": "Python 3 (ipykernel)",
   "language": "python",
   "name": "python3"
  },
  "language_info": {
   "codemirror_mode": {
    "name": "ipython",
    "version": 3
   },
   "file_extension": ".py",
   "mimetype": "text/x-python",
   "name": "python",
   "nbconvert_exporter": "python",
   "pygments_lexer": "ipython3",
   "version": "3.9.12"
  }
 },
 "nbformat": 4,
 "nbformat_minor": 5
}
