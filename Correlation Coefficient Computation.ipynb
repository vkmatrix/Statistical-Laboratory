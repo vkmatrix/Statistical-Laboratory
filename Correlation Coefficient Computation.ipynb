{
 "cells": [
  {
   "cell_type": "code",
   "execution_count": 1,
   "id": "cfb620d2",
   "metadata": {},
   "outputs": [],
   "source": [
    "import numpy as np"
   ]
  },
  {
   "cell_type": "code",
   "execution_count": 6,
   "id": "7fbfb61a",
   "metadata": {},
   "outputs": [
    {
     "name": "stdout",
     "output_type": "stream",
     "text": [
      "Correlation Coefficient ----> [[1.        0.3350184]\n",
      " [0.3350184 1.       ]]\n"
     ]
    }
   ],
   "source": [
    "np.random.seed(100)\n",
    "var1=np.random.randint(0,10,50)\n",
    "var2=var1+np.random.normal(0,10,50)\n",
    "print('Correlation Coefficient ---->',np.corrcoef(var1,var2))"
   ]
  },
  {
   "cell_type": "code",
   "execution_count": null,
   "id": "2b1bbf40",
   "metadata": {},
   "outputs": [],
   "source": []
  },
  {
   "cell_type": "code",
   "execution_count": null,
   "id": "dddf9378",
   "metadata": {},
   "outputs": [],
   "source": []
  }
 ],
 "metadata": {
  "kernelspec": {
   "display_name": "Python 3 (ipykernel)",
   "language": "python",
   "name": "python3"
  },
  "language_info": {
   "codemirror_mode": {
    "name": "ipython",
    "version": 3
   },
   "file_extension": ".py",
   "mimetype": "text/x-python",
   "name": "python",
   "nbconvert_exporter": "python",
   "pygments_lexer": "ipython3",
   "version": "3.9.12"
  }
 },
 "nbformat": 4,
 "nbformat_minor": 5
}
